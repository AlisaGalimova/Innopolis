{
  "nbformat": 4,
  "nbformat_minor": 0,
  "metadata": {
    "colab": {
      "provenance": [],
      "authorship_tag": "ABX9TyP8QMfBziHC+vN16roK4ZtG",
      "include_colab_link": true
    },
    "kernelspec": {
      "name": "python3",
      "display_name": "Python 3"
    },
    "language_info": {
      "name": "python"
    }
  },
  "cells": [
    {
      "cell_type": "markdown",
      "metadata": {
        "id": "view-in-github",
        "colab_type": "text"
      },
      "source": [
        "<a href=\"https://colab.research.google.com/github/AlisaGalimova/Innopolis/blob/main/Untitled0.ipynb\" target=\"_parent\"><img src=\"https://colab.research.google.com/assets/colab-badge.svg\" alt=\"Open In Colab\"/></a>"
      ]
    },
    {
      "cell_type": "code",
      "execution_count": null,
      "metadata": {
        "colab": {
          "base_uri": "https://localhost:8080/"
        },
        "id": "3lPKIvViOyDJ",
        "outputId": "681718d6-96f1-4a27-88e8-2d297a02426e"
      },
      "outputs": [
        {
          "output_type": "stream",
          "name": "stdout",
          "text": [
            "[[0.000e+00 1.000e+00 1.000e+00 2.000e+00 3.000e+00]\n",
            " [5.000e+00 8.000e+00 1.300e+01 2.100e+01 3.400e+01]\n",
            " [5.500e+01 8.900e+01 1.440e+02 2.330e+02 3.770e+02]\n",
            " [6.100e+02 9.870e+02 1.597e+03 2.584e+03 4.181e+03]]\n"
          ]
        }
      ],
      "source": [
        "import numpy as np\n",
        "n = 4     #строки матрицы\n",
        "k = 5     #столбцы матрицы\n",
        "m = n*k   #матрица\n",
        "F = np.empty(m)  #создание массива матрицы\n",
        "i = 0\n",
        "for i in range (m):  #создание последовательности чисел\n",
        "  if i == 0:         #если условие оценивается как true, то выполняется инструкция этого блока\n",
        "    F[i] = 0\n",
        "  elif i == 1:       #если предыдущее условие было false, тогда попробуйте это условие, для непрерывной цепочки условной логич лестницы\n",
        "    F[i] = 1\n",
        "  else:\n",
        "    F[i] = F[i-1] + F[i-2]  #если условие оценивается как false, выполняeтся инструкция этого блока\n",
        "  i = i + 1\n",
        "F = np.reshape (F, (n,k))   #преобразование одномерного массива в двумерный из 4строк и 5столбцов\n",
        "print (F)\n",
        "\n"
      ]
    },
    {
      "cell_type": "code",
      "source": [
        "min_str = np.reshape (F.min(axis = 1), (n,1))\n",
        "max_str = np.reshape (F.max(axis = 1), (n,1))\n",
        "sum_str = np.reshape (F.sum(axis = 1), (n,1))\n",
        "print (min_str)\n",
        "print (max_str)\n",
        "print (sum_str)\n"
      ],
      "metadata": {
        "colab": {
          "base_uri": "https://localhost:8080/"
        },
        "id": "I7kXtcVm8P9-",
        "outputId": "e2343dbd-45ff-481b-8746-d06391b073f1"
      },
      "execution_count": null,
      "outputs": [
        {
          "output_type": "stream",
          "name": "stdout",
          "text": [
            "[[  0.]\n",
            " [  5.]\n",
            " [ 55.]\n",
            " [610.]]\n",
            "[[3.000e+00]\n",
            " [3.400e+01]\n",
            " [3.770e+02]\n",
            " [4.181e+03]]\n",
            "[[7.000e+00]\n",
            " [8.100e+01]\n",
            " [8.980e+02]\n",
            " [9.959e+03]]\n"
          ]
        }
      ]
    },
    {
      "cell_type": "code",
      "source": [
        "import numpy as np\n",
        "n = 4     #строки матрицы\n",
        "k = 5     #столбцы матрицы\n",
        "m = n*k   #матрица\n",
        "F = np.empty(m)  #создание массива матрицы\n",
        "i = 0\n",
        "for i in range (m):  #создание последовательности чисел\n",
        "  if i == 0:         #если условие оценивается как true, то выполняется инструкция этого блока\n",
        "    F[i] = 0\n",
        "  elif i == 1:       #если предыдущее условие было false, тогда попробуйте это условие, для непрерывной цепочки условной логич лестницы\n",
        "    F[i] = 1\n",
        "  else:\n",
        "    F[i] = F[i-1] + F[i-2]  #если условие оценивается как false, выполняeтся инструкция этого блока\n",
        "  i = i + 1\n",
        "F = np.reshape (F, (n,k))   #преобразование одномерного массива в двумерный из 4строк и 5столбцов\n",
        "\n",
        "\n",
        "min_clmn = np.reshape (F.min(axis = 0), (1,k))\n",
        "max_clmn = np.reshape (F.max(axis = 0), (1,k))\n",
        "sum_clmn = np.reshape (F.sum(axis = 0), (1,k))\n",
        "print (min_clmn)\n",
        "print (max_clmn)\n",
        "print (sum_clmn)"
      ],
      "metadata": {
        "colab": {
          "base_uri": "https://localhost:8080/"
        },
        "id": "2I7w7T4Corvc",
        "outputId": "b4bb20d0-6dad-44db-8b18-9ccf22525dd4"
      },
      "execution_count": null,
      "outputs": [
        {
          "output_type": "stream",
          "name": "stdout",
          "text": [
            "[[0. 1. 1. 2. 3.]]\n",
            "[[ 610.  987. 1597. 2584. 4181.]]\n",
            "[[ 670. 1085. 1755. 2840. 4595.]]\n"
          ]
        }
      ]
    },
    {
      "cell_type": "code",
      "source": [
        "import numpy as np\n",
        "n = 4     #строки матрицы\n",
        "k = 5     #столбцы матрицы\n",
        "m = n*k   #матрица\n",
        "F = np.empty(m)  #создание массива матрицы\n",
        "i = 0\n",
        "for i in range (m):  #создание последовательности чисел\n",
        "  if i == 0:         #если условие оценивается как true, то выполняется инструкция этого блока\n",
        "    F[i] = 0\n",
        "  elif i == 1:       #если предыдущее условие было false, тогда попробуйте это условие, для непрерывной цепочки условной логич лестницы\n",
        "    F[i] = 1\n",
        "  else:\n",
        "    F[i] = F[i-1] + F[i-2]  #если условие оценивается как false, выполняeтся инструкция этого блока\n",
        "  i = i + 1\n",
        "F = np.reshape (F, (n,k))   #преобразование одномерного массива в двумерный из 4строк и 5столбцов\n",
        "F2 = F\n",
        "i=0      #счетчик для перебора по строкам\n",
        "ii=0     #счетчик для перебора по столбцам\n",
        "for i in range (n):      #создание последовательности чисел строк\n",
        "  for ii in range (k):   #создание последовательности чисел столбцов\n",
        "    if F2[i,ii]>500: F2[i,ii]=1\n",
        "    ii = ii + 1\n",
        "i = i + 1\n",
        "print(F2)"
      ],
      "metadata": {
        "colab": {
          "base_uri": "https://localhost:8080/"
        },
        "id": "hVv3FL5LtNTi",
        "outputId": "518d1e96-d33a-4707-f611-e9fd25e746f1"
      },
      "execution_count": null,
      "outputs": [
        {
          "output_type": "stream",
          "name": "stdout",
          "text": [
            "[[  0.   1.   1.   2.   3.]\n",
            " [  5.   8.  13.  21.  34.]\n",
            " [ 55.  89. 144. 233. 377.]\n",
            " [  1.   1.   1.   1.   1.]]\n"
          ]
        }
      ]
    }
  ]
}